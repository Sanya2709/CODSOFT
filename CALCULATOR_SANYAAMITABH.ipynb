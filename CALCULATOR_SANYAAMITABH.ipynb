{
  "nbformat": 4,
  "nbformat_minor": 0,
  "metadata": {
    "colab": {
      "provenance": [],
      "authorship_tag": "ABX9TyMz1VltAEkj6T0bg2fO8seQ",
      "include_colab_link": true
    },
    "kernelspec": {
      "name": "python3",
      "display_name": "Python 3"
    },
    "language_info": {
      "name": "python"
    }
  },
  "cells": [
    {
      "cell_type": "markdown",
      "metadata": {
        "id": "view-in-github",
        "colab_type": "text"
      },
      "source": [
        "<a href=\"https://colab.research.google.com/github/Sanya2709/CODSOFT/blob/main/CALCULATOR_SANYAAMITABH.ipynb\" target=\"_parent\"><img src=\"https://colab.research.google.com/assets/colab-badge.svg\" alt=\"Open In Colab\"/></a>"
      ]
    },
    {
      "cell_type": "code",
      "source": [
        "<!DOCTYPE html>\n",
        "<html lang=\"en\">\n",
        "<head>\n",
        "  <meta charset=\"UTF-8\">\n",
        "  <meta name=\"viewport\" content=\"width=device-width, initial-scale=1.0\">\n",
        "  <title>Simple Calculator</title>\n",
        "  <link rel=\"stylesheet\" href=\"styles.css\">\n",
        "</head>\n",
        "<body>\n",
        "  <div class=\"calculator\">\n",
        "    <input type=\"text\" class=\"display\" id=\"display\" disabled>\n",
        "    <div class=\"buttons\">\n",
        "      <button onclick=\"clearDisplay()\">C</button>\n",
        "      <button onclick=\"appendValue('/')\">/</button>\n",
        "      <button onclick=\"appendValue('')\"></button>\n",
        "      <button onclick=\"deleteLast()\">DEL</button>\n",
        "\n",
        "      <button onclick=\"appendValue('7')\">7</button>\n",
        "      <button onclick=\"appendValue('8')\">8</button>\n",
        "      <button onclick=\"appendValue('9')\">9</button>\n",
        "      <button onclick=\"appendValue('-')\">-</button>\n",
        "\n",
        "      <button onclick=\"appendValue('4')\">4</button>\n",
        "      <button onclick=\"appendValue('5')\">5</button>\n",
        "      <button onclick=\"appendValue('6')\">6</button>\n",
        "      <button onclick=\"appendValue('+')\">+</button>\n",
        "\n",
        "      <button onclick=\"appendValue('1')\">1</button>\n",
        "      <button onclick=\"appendValue('2')\">2</button>\n",
        "      <button onclick=\"appendValue('3')\">3</button>\n",
        "      <button onclick=\"calculate()\">=</button>\n",
        "\n",
        "      <button onclick=\"appendValue('0')\" class=\"zero\">0</button>\n",
        "      <button onclick=\"appendValue('.')\">.</button>\n",
        "    </div>\n",
        "  </div>\n",
        "\n",
        "  <script src=\"script.js\"></script>\n",
        "</body>\n",
        "</html>"
      ],
      "metadata": {
        "id": "t9Z2BxcC3A5C"
      },
      "execution_count": null,
      "outputs": []
    }
  ]
}