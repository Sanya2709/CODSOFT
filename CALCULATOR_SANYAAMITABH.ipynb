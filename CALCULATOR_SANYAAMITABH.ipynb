{
  "nbformat": 4,
  "nbformat_minor": 0,
  "metadata": {
    "colab": {
      "provenance": [],
      "authorship_tag": "ABX9TyOLcm8FcCuaJeBJIs1r+BYx",
      "include_colab_link": true
    },
    "kernelspec": {
      "name": "python3",
      "display_name": "Python 3"
    },
    "language_info": {
      "name": "python"
    }
  },
  "cells": [
    {
      "cell_type": "markdown",
      "metadata": {
        "id": "view-in-github",
        "colab_type": "text"
      },
      "source": [
        "<a href=\"https://colab.research.google.com/github/Sanya2709/CODSOFT/blob/main/CALCULATOR_SANYAAMITABH.ipynb\" target=\"_parent\"><img src=\"https://colab.research.google.com/assets/colab-badge.svg\" alt=\"Open In Colab\"/></a>"
      ]
    },
    {
      "cell_type": "code",
      "execution_count": 1,
      "metadata": {
        "colab": {
          "base_uri": "https://localhost:8080/",
          "height": 106
        },
        "id": "ZfKQpwA_19Tl",
        "outputId": "58ac5068-5d37-4f94-e292-f68aebd5211e"
      },
      "outputs": [
        {
          "output_type": "error",
          "ename": "SyntaxError",
          "evalue": "invalid syntax (<ipython-input-1-c9469ff762d3>, line 1)",
          "traceback": [
            "\u001b[0;36m  File \u001b[0;32m\"<ipython-input-1-c9469ff762d3>\"\u001b[0;36m, line \u001b[0;32m1\u001b[0m\n\u001b[0;31m    <!DOCTYPE html>\u001b[0m\n\u001b[0m    ^\u001b[0m\n\u001b[0;31mSyntaxError\u001b[0m\u001b[0;31m:\u001b[0m invalid syntax\n"
          ]
        }
      ],
      "source": [
        "<!DOCTYPE html>\n",
        "<html lang=\"en\">\n",
        "<head>\n",
        "    <meta charset=\"UTF-8\">\n",
        "    <meta name=\"viewport\" content=\"width=device-width, initial-scale=1.0\">\n",
        "    <title>Calculator</title>\n",
        "    <link rel=\"stylesheet\" href=\"style.css\">\n",
        "</head>\n",
        "<body>\n",
        "    <section class=\"calculator\">\n",
        "        <form>\n",
        "            <input type=\"text\" class=\"screen\" readonly>\n",
        "        </form>\n",
        "        <div class=\"button\">\n",
        "            <button type=\"button\" class=\"btn btn-yellow\" data-num=\"*\">*</button>\n",
        "            <button type=\"button\" class=\"btn btn-yellow\" data-num=\"/\">/</button>\n",
        "            <button type=\"button\" class=\"btn btn-yellow\" data-num=\"-\">-</button>\n",
        "            <button type=\"button\" class=\"btn btn-yellow\" data-num=\"+\">+</button>\n",
        "            <button type=\"button\" class=\"btn btn-grey\" data-num=\"9\">9</button>\n",
        "            <button type=\"button\" class=\"btn btn-grey\" data-num=\"8\">8</button>\n",
        "            <button type=\"button\" class=\"btn btn-grey\" data-num=\"7\">7</button>\n",
        "            <button type=\"button\" class=\"btn btn-grey\" data-num=\"6\">6</button>\n",
        "            <button type=\"button\" class=\"btn btn-grey\" data-num=\"5\">5</button>\n",
        "            <button type=\"button\" class=\"btn btn-grey\" data-num=\"4\">4</button>\n",
        "            <button type=\"button\" class=\"btn btn-grey\" data-num=\"3\">3</button>\n",
        "            <button type=\"button\" class=\"btn btn-grey\" data-num=\"2\">2</button>\n",
        "            <button type=\"button\" class=\"btn btn-grey\" data-num=\"1\">1</button>\n",
        "            <button type=\"button\" class=\"btn btn-grey\" data-num=\"0\">0</button>\n",
        "            <button type=\"button\" class=\"btn btn-grey\" data-num=\".\">.</button>\n",
        "            <button type=\"button\" class=\"btn btn-equal\">=</button>\n",
        "            <button type=\"button\" class=\"btn btn-clear\">C</button>\n",
        "        </div>\n",
        "    </section>\n",
        "    <script src=\"app.js\"></script>\n",
        "</body>\n",
        "</html>"
      ]
    }
  ]
}