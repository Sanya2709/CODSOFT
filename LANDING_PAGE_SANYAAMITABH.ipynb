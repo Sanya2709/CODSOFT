{
  "nbformat": 4,
  "nbformat_minor": 0,
  "metadata": {
    "colab": {
      "provenance": [],
      "authorship_tag": "ABX9TyO3irFPaMlMYXFoOaDpJpdx",
      "include_colab_link": true
    },
    "kernelspec": {
      "name": "python3",
      "display_name": "Python 3"
    },
    "language_info": {
      "name": "python"
    }
  },
  "cells": [
    {
      "cell_type": "markdown",
      "metadata": {
        "id": "view-in-github",
        "colab_type": "text"
      },
      "source": [
        "<a href=\"https://colab.research.google.com/github/Sanya2709/CODSOFT/blob/main/LANDING_PAGE_SANYAAMITABH.ipynb\" target=\"_parent\"><img src=\"https://colab.research.google.com/assets/colab-badge.svg\" alt=\"Open In Colab\"/></a>"
      ]
    },
    {
      "cell_type": "code",
      "source": [
        "<!DOCTYPE html>\n",
        "<html lang=\"en\">\n",
        "<head>\n",
        "    <meta charset=\"UTF-8\">\n",
        "    <meta http-equiv=\"X-UA-Compatible\" content=\"IE=edge\">\n",
        "    <meta name=\"viewport\" content=\"width=device-width, initial-scale=1.0\">\n",
        "    <title>Landing page using html css</title>\n",
        "    <link rel=\"stylesheet\" href=\"style.css\">\n",
        "</head>\n",
        "<body>\n",
        "    <header>\n",
        "\n",
        "<nav>\n",
        "<div class=\"logo\">\n",
        "Code Artistic\n",
        "</div>\n",
        "<div class=\"menu\">\n",
        "    <a href=\"#\">Home</a>\n",
        "    <a href=\"#\">Hill stations</a>\n",
        "    <a href=\"#\">Explore</a>\n",
        "    <a href=\"#\">Contact</a>\n",
        "\n",
        "</div>\n",
        "<div class=\"register\">\n",
        "    <a href=\"#\">Register</a>\n",
        "</div>\n",
        "</nav>\n",
        "<section  class=\"h-text\">\n",
        "    <span>Enjoy</span>\n",
        "    <h1>Explore the World</h1>\n",
        "    <br>\n",
        "    <a href=\"#\">Visit Now</a>\n",
        "</section>\n",
        "    </header>\n",
        "</body>\n",
        "</html>"
      ],
      "metadata": {
        "id": "y9e47h8dNBoM"
      },
      "execution_count": null,
      "outputs": []
    }
  ]
}