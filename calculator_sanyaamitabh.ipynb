{
  "nbformat": 4,
  "nbformat_minor": 0,
  "metadata": {
    "colab": {
      "provenance": [],
      "authorship_tag": "ABX9TyPJZfgJKRKI7KeJ3NKIdDai",
      "include_colab_link": true
    },
    "kernelspec": {
      "name": "python3",
      "display_name": "Python 3"
    },
    "language_info": {
      "name": "python"
    }
  },
  "cells": [
    {
      "cell_type": "markdown",
      "metadata": {
        "id": "view-in-github",
        "colab_type": "text"
      },
      "source": [
        "<a href=\"https://colab.research.google.com/github/Sanya2709/CODSOFT/blob/main/calculator_sanyaamitabh.ipynb\" target=\"_parent\"><img src=\"https://colab.research.google.com/assets/colab-badge.svg\" alt=\"Open In Colab\"/></a>"
      ]
    },
    {
      "cell_type": "code",
      "source": [
        "<!DOCTYPE html>\n",
        "<html lang=\"en\">\n",
        "<head>\n",
        "    <meta charset=\"UTF-8\">\n",
        "    <meta http-equiv=\"X-UA-Compatible\" content=\"IE=edge\">\n",
        "    <meta name=\"viewport\" content=\"width=device-width, initial-scale=1.0\">\n",
        "    <title>Calculator</title>\n",
        "    <style>\n",
        "        .container{\n",
        "            max-width: 300px;\n",
        "            margin:40px auto;\n",
        "            margin: 40px auto;\n",
        "            background: #222222;\n",
        "            padding: 40px;\n",
        "            border-radius: 12px;\n",
        "        }\n",
        "        .grid{\n",
        "            display: grid;\n",
        "            grid-template-columns: 1fr 1fr 1fr 1fr;\n",
        "            gap:10px;\n",
        "        }\n",
        "        button{\n",
        "            background-color: #5f6368;\n",
        "            border-radius: 10px;\n",
        "            color:#ffffff;\n",
        "            border:0px;\n",
        "            padding:10px;\n",
        "            cursor:pointer;\n",
        "            font-size: 20px;\n",
        "        }\n",
        "        button:hover{\n",
        "            background-color: #70757a;\n",
        "        }\n",
        "        .display{\n",
        "            background: #303134;\n",
        "            height: 40px;\n",
        "            box-sizing: border-box;\n",
        "            border: 1px solid #303134;\n",
        "            margin-bottom: 15px;\n",
        "            border-radius: 10px;\n",
        "            color:#ffffff;\n",
        "            display: flex;\n",
        "            align-items: center;\n",
        "            padding:20px;\n",
        "            justify-content: flex-end;\n",
        "        }\n",
        "    </style>\n",
        "</head>\n",
        "<body>\n",
        "    <div class=\"container\">\n",
        "        <div class=\"display\"></div>\n",
        "        <div class=\"grid\">\n",
        "            <button>C</button>\n",
        "            <button>/</button>\n",
        "            <button>*</button>\n",
        "            <button>&#8592;</button>\n",
        "            <button>7</button>\n",
        "            <button>8</button>\n",
        "            <button>9</button>\n",
        "            <button>+</button>\n",
        "            <button>4</button>\n",
        "            <button>5</button>\n",
        "            <button>6</button>\n",
        "            <button>-</button>\n",
        "            <button>1</button>\n",
        "            <button>2</button>\n",
        "            <button>3</button>\n",
        "            <button>.</button>\n",
        "            <button>(</button>\n",
        "            <button>0</button>\n",
        "            <button>)</button>\n",
        "            <button>=</button>\n",
        "        </div>\n",
        "    </div>\n",
        "    <script>\n",
        "        var buttons = document.querySelectorAll(\".grid button\");\n",
        "        var display = document.querySelector(\".display\");\n",
        "        buttons.forEach(function(button){\n",
        "\n",
        "            button.addEventListener(\"click\",function(e){\n",
        "                if (e.target.innerText == \"=\") {\n",
        "                    try {\n",
        "                        display.innerText = eval(display.innerText);\n",
        "                    } catch {\n",
        "                        display.innerText = \"Invalid\";\n",
        "                    }\n",
        "                }\n",
        "                else if(e.target.innerText == \"C\"){\n",
        "                    display.innerText = \"\";\n",
        "                }\n",
        "                else if(e.target.innerText == \"←\"){\n",
        "                    display.innerText = display.innerText.slice(0,-1);\n",
        "                }\n",
        "                else{\n",
        "                    display.innerText += e.target.innerText;\n",
        "                }\n",
        "\n",
        "            })\n",
        "        });\n",
        "    </script>\n",
        "</body>\n",
        "</html>"
      ],
      "metadata": {
        "colab": {
          "base_uri": "https://localhost:8080/",
          "height": 106
        },
        "id": "jUwFX9xezLFb",
        "outputId": "57302559-f804-4550-cf19-5040cf2f8574"
      },
      "execution_count": null,
      "outputs": [
        {
          "output_type": "error",
          "ename": "SyntaxError",
          "evalue": "invalid decimal literal (<ipython-input-1-c0e399d183c6>, line 10)",
          "traceback": [
            "\u001b[0;36m  File \u001b[0;32m\"<ipython-input-1-c0e399d183c6>\"\u001b[0;36m, line \u001b[0;32m10\u001b[0m\n\u001b[0;31m    max-width: 300px;\u001b[0m\n\u001b[0m                 ^\u001b[0m\n\u001b[0;31mSyntaxError\u001b[0m\u001b[0;31m:\u001b[0m invalid decimal literal\n"
          ]
        }
      ]
    }
  ]
}