{
  "nbformat": 4,
  "nbformat_minor": 0,
  "metadata": {
    "colab": {
      "provenance": [],
      "authorship_tag": "ABX9TyP+dn5TfprSoUOmWzYCLjzR",
      "include_colab_link": true
    },
    "kernelspec": {
      "name": "python3",
      "display_name": "Python 3"
    },
    "language_info": {
      "name": "python"
    }
  },
  "cells": [
    {
      "cell_type": "markdown",
      "metadata": {
        "id": "view-in-github",
        "colab_type": "text"
      },
      "source": [
        "<a href=\"https://colab.research.google.com/github/Sanya2709/CODSOFT/blob/main/PERSONAL_PORTFOLIO_SANYAAMITABH.ipynb\" target=\"_parent\"><img src=\"https://colab.research.google.com/assets/colab-badge.svg\" alt=\"Open In Colab\"/></a>"
      ]
    },
    {
      "cell_type": "code",
      "source": [
        " <!DOCTYPE html>\n",
        " <html lang=\"en\">\n",
        "    <head>\n",
        "        <meta charset=\"UTF-8\" />\n",
        "        <title>Personal Portfolio Website</title>\n",
        "        <!----CSS link----->\n",
        "        <link rel=\"stylesheet\" href=\"style.css\" />\n",
        "    </head>\n",
        "    <body>\n",
        "        <div class=\"hero\">\n",
        "            <nav>\n",
        "                <img src=\"./img/logo.png\" class=\"logo\" />\n",
        "                <ul>\n",
        "                    <li><a href=\"#\">Home</a></li>\n",
        "                    <li><a href=\"#\">About</a></li>\n",
        "                    <li><a href=\"#\">Service</a></li>\n",
        "                    <li><a href=\"#\">Portfolio</a></li>\n",
        "                    <li><a href=\"#\">Blog</a></li>\n",
        "                    <li><a href=\"#\">Contact</a></li>\n",
        "                </ul>\n",
        "                <a href=\"#\" class=\"btn\">Resume</a>\n",
        "            </nav>\n",
        "            <div class=\"content\">\n",
        "                <span class=\"title\">Freelance Web Developer</span>\n",
        "                <h1>Hello, I am <span>emma</span></h1>\n",
        "                <p>\n",
        "                    I am working on a professional, visually sophisticated and\n",
        "                    technologically proficient, responsive and multi-functional\n",
        "                    React Components.\n",
        "                </p>\n",
        "                <a href=\"#\" class=\"btn\">Download CV</a>\n",
        "            </div>\n",
        "        </div>\n",
        "    </body>\n",
        "</html>"
      ],
      "metadata": {
        "id": "hlaX1DDxTIP8"
      },
      "execution_count": null,
      "outputs": []
    },
    {
      "cell_type": "code",
      "source": [],
      "metadata": {
        "id": "ERB985fBTshh"
      },
      "execution_count": null,
      "outputs": []
    }
  ]
}